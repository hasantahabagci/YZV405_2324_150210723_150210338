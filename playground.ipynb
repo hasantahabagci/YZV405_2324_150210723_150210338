{
 "cells": [
  {
   "cell_type": "markdown",
   "metadata": {},
   "source": [
    "# NLP Project \n",
    "\n",
    "## Why this ipynb file? \n",
    "\n",
    "\n",
    "Using .py scripts on development making the job harder. This ipynb file is a playground for debugging purposes. "
   ]
  },
  {
   "cell_type": "markdown",
   "metadata": {},
   "source": []
  }
 ],
 "metadata": {
  "language_info": {
   "name": "python"
  }
 },
 "nbformat": 4,
 "nbformat_minor": 2
}
